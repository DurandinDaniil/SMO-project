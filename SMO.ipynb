{
  "nbformat": 4,
  "nbformat_minor": 0,
  "metadata": {
    "colab": {
      "name": "SMO.ipynb",
      "provenance": []
    },
    "kernelspec": {
      "name": "python3",
      "display_name": "Python 3"
    }
  },
  "cells": [
    {
      "cell_type": "code",
      "metadata": {
        "id": "7jiPbjJuaxMc",
        "colab_type": "code",
        "colab": {}
      },
      "source": [
        "import numpy as np\n",
        "import matplotlib.pyplot as plt\n",
        "from scipy import integrate\n",
        "import math\n",
        "import random\n",
        "import joblib\n",
        "\n",
        "from keras.models import Model\n",
        "from keras.layers import Input, Dense, Concatenate, Lambda\n",
        "from sklearn import preprocessing\n",
        "import math as mm\n",
        "from keras.callbacks import ReduceLROnPlateau, EarlyStopping"
      ],
      "execution_count": 0,
      "outputs": []
    },
    {
      "cell_type": "code",
      "metadata": {
        "id": "YgQq12lFcMlZ",
        "colab_type": "code",
        "colab": {}
      },
      "source": [
        "def KLMGRV(t, P, ags): #Система уравнений Колмогорова\n",
        "    n, m, lam, mu, tog = ags\n",
        "    nu = 1 / tog\n",
        "    diffp = [-lam * P[0] + mu * P[1]]\n",
        "    for i in range(1, n):\n",
        "        diffp.append(lam * P[i - 1] - (lam + i * mu) * P[i] + (i + 1) * mu * P[i + 1])\n",
        "    for i in range(n, n + m):\n",
        "        diffp.append(lam * P[i - 1] - (lam + n * mu + (i - n) * nu) * P[i] + (n * mu + (i - n + 1) * nu) * P[i + 1])\n",
        "    diffp.append(lam * P[n + m - 1] - (n * mu + m * nu) * P[n + m])\n",
        "    return np.array(diffp) "
      ],
      "execution_count": 0,
      "outputs": []
    },
    {
      "cell_type": "code",
      "metadata": {
        "id": "6FgkGpi1cNel",
        "colab_type": "code",
        "colab": {}
      },
      "source": [
        "def RKF(f, T0, P0, T, tau, ags): #метод Рунге-Кутта_Фельберга\n",
        "    def next_app(f, t, P, tau): #высчитываем коэффициенты для решения в следующий момент времени\n",
        "        k1 = tau * f(t, P, ags)\n",
        "        k2 = tau * f(t + (1 / 4) * tau, P + (1 / 4) * k1 * tau, ags)\n",
        "        k3 = tau * f(t + (3 / 8) * tau, P + (3 / 32) * k1 * tau + (9 / 32) * k2 * tau, ags)\n",
        "        k4 = tau * f(t + (12 / 13) * tau, P + (1932 / 2197) * k1 * tau - (7200 / 2197) * k2 * tau + (7296 / 2197) * k3 * tau, ags)\n",
        "        k5 = tau * f(t + tau, P + (439 / 216) * k1 * tau - 8 * k2 * tau + (3680 / 513) * k3 * tau - (845 / 4104) * k4 * tau, ags)\n",
        "        k6 = tau * f(t + (1 / 2) * tau,\n",
        "                     P - (8 / 27) * k1 * tau + 2 * k2 * tau - (3544 / 2565) * k3 * tau + (1859 / 4104) * k4 * tau - (11 / 40) * k5 * tau, ags)\n",
        "        return (16 / 135) * k1 + (6656 / 12825) * k3 + (28561 / 56430) * k4 - (9 / 50) * k5 + (2 / 55) * k6\n",
        "    t = list()\n",
        "    t.append(T0)\n",
        "    P = list()\n",
        "    P.append(P0)\n",
        "    while T0 < T: #находим решения для каждого момента времени\n",
        "        tau = min(tau, T - T0)\n",
        "        P0 = P0 + next_app(f, T0, P0, tau)\n",
        "        T0 = T0 + tau\n",
        "        t.append(T0)\n",
        "        P.append(P0)\n",
        "    return np.array(t), np.array(P)"
      ],
      "execution_count": 0,
      "outputs": []
    },
    {
      "cell_type": "code",
      "metadata": {
        "id": "VfwG3IOvcVfn",
        "colab_type": "code",
        "colab": {}
      },
      "source": [
        "n = 2 #число каналов в СМО\n",
        "m = 3 #число мест в очереди\n",
        "lam = 0.5 #интенсивность поступления в СМО заявок\n",
        "mu = 0.05 #интенсивность обслуживания заявок\n",
        "tog = 15 #среднее время ожидания заявки в очереди\n",
        "nu = 1 / tog #интенсивность потока ухода заявок из очереди\n",
        "ro = lam / mu #коэффициент загрузки СМО\n",
        "\n",
        "T0 = 0 #начальный момент времени\n",
        "T = 40 #конечный момент времени\n",
        "tau = 0.1 #шаг\n",
        "P0 = np.zeros(n + m + 1) #значения вероятностей наличия заявок в начальный момент времени\n",
        "P0[0] = 1 #вероятность отсутствия заявок в начальный момент времени"
      ],
      "execution_count": 0,
      "outputs": []
    },
    {
      "cell_type": "code",
      "metadata": {
        "id": "3n_0DWIecP9s",
        "colab_type": "code",
        "outputId": "9c4e7d9d-d0c7-4fe7-882e-eb776ce630f0",
        "colab": {
          "base_uri": "https://localhost:8080/",
          "height": 366
        }
      },
      "source": [
        "ags = [2,3,0.5,0.05,15]\n",
        "t, P = RKF(KLMGRV, T0, P0, T, tau, ags)\n",
        "plt.plot(P)"
      ],
      "execution_count": 0,
      "outputs": [
        {
          "output_type": "execute_result",
          "data": {
            "text/plain": [
              "[<matplotlib.lines.Line2D at 0x7f2b9ab1d6a0>,\n",
              " <matplotlib.lines.Line2D at 0x7f2b9ab1d7b8>,\n",
              " <matplotlib.lines.Line2D at 0x7f2b9ab1d908>,\n",
              " <matplotlib.lines.Line2D at 0x7f2b9ab1da58>,\n",
              " <matplotlib.lines.Line2D at 0x7f2b9ab1dba8>,\n",
              " <matplotlib.lines.Line2D at 0x7f2b9ab1dcf8>]"
            ]
          },
          "metadata": {
            "tags": []
          },
          "execution_count": 7
        },
        {
          "output_type": "display_data",
          "data": {
            "image/png": "[encoded data removed]",
            "text/plain": [
              "<Figure size 432x288 with 1 Axes>"
            ]
          },
          "metadata": {
            "tags": [],
            "needs_background": "light"
          }
        }
      ]
    },
    {
      "cell_type": "code",
      "metadata": {
        "id": "Y1VG99pXcXd2",
        "colab_type": "code",
        "colab": {}
      },
      "source": [
        "def props(ags):\n",
        "  n, m, lam, mu, tog = ags\n",
        "  nu = 1 / tog #интенсивность потока ухода заявок из очереди\n",
        "  ro = lam / mu #коэффициент загрузки СМО\n",
        "  pokazateli = list()\n",
        "\n",
        "  #Для этого сначала найдем предельные вероятности:\n",
        "  p = list()\n",
        "  sum_first = np.sum(np.array([ro**i / mm.factorial(i) for i in range(n + 1)]))\n",
        "  def mult(z): #функция для перемножения\n",
        "      multy = 1\n",
        "      for i in range(1, z + 1):\n",
        "          beta = nu / mu\n",
        "          multy *= n + i * beta\n",
        "      return multy\n",
        "  sum_second = np.sum(np.array([ro**(n + i) / mm.factorial(n) / mult(i) for i in range(1, m + 1)]))\n",
        "  p0 = 1 / (sum_first + sum_second) #предельная вероятность отсутсвия заявок\n",
        "  p.append(p0)\n",
        "  for i in range(1, n + 1):\n",
        "      p.append(p0 * ro**i / mm.factorial(i)) #предельные вероятности для [1; n] заявок\n",
        "  for i in range(1, m + 1):\n",
        "      p.append(p0 * ro**(n + i) / mult(i) / mm.factorial(n)) #предельные вероятности для [n + 1; n + m] заявок\n",
        "\n",
        "  p_ots = (np.sum(np.array(p[: n])), 'Вероятность отсутствия очереди p_ots')\n",
        "  pokazateli.append(p_ots)\n",
        "\n",
        "  p_och = (np.sum(np.array(p[n: n + m + 1])), 'Вероятность образования очереди p_och')\n",
        "  pokazateli.append(p_och)\n",
        "\n",
        "  p_otk = (p[n + m], 'Вероятность отказа в обслуживании p_otk')\n",
        "  pokazateli.append(p_otk)\n",
        "\n",
        "  Q = (1 - p_otk[0], 'Относительная пропускная способность Q')\n",
        "  pokazateli.append(Q) #т.е. вероятность обслуживания поступившей в СМО заявки\n",
        "\n",
        "  A = (lam * Q[0], 'Абсолютная пропусная способность A')\n",
        "  pokazateli.append(A) #т.е. среднее число заявок, обслуживаемых в СМО в единицу времени\n",
        "\n",
        "  L_och = (np.sum([i * p[n + i] for i in range(1, m + 1)]), 'Среднее число заявок, находящихся в очереди L_och')\n",
        "  pokazateli.append(L_och)\n",
        "\n",
        "  L_obs = (np.sum([i * p[i] for i in range(1, n + 1)]) + np.sum([n * p[n + i] for i in range(1, m + 1)]), 'Среднее число заявок, обслуживаемых в СМО L_obs')\n",
        "  pokazateli.append(L_obs)\n",
        "\n",
        "  L_smo = (L_och[0] + L_obs[0], 'Среднее число заявок, находящихся в СМО L_smo')\n",
        "  pokazateli.append(L_smo)\n",
        "\n",
        "  T_och = (tog, 'Среднее время ожидания заявки в очереди T_och')\n",
        "  pokazateli.append(T_och)\n",
        "\n",
        "  T_obs = (Q[0] / mu, 'Среднее время обслуживания T_obs')\n",
        "  pokazateli.append(T_obs)\n",
        "\n",
        "  T_smo = (T_och[0] + T_obs[0], 'Среднее время пребывания заявки в СМО T_smo')\n",
        "  pokazateli.append(T_smo)\n",
        "\n",
        "  return pokazateli"
      ],
      "execution_count": 0,
      "outputs": []
    },
    {
      "cell_type": "code",
      "metadata": {
        "id": "zF9l-IpHrnD4",
        "colab_type": "code",
        "colab": {}
      },
      "source": [
        "pokazateli = props(ags)"
      ],
      "execution_count": 0,
      "outputs": []
    },
    {
      "cell_type": "code",
      "metadata": {
        "id": "PBpSIrJxDuuR",
        "colab_type": "code",
        "colab": {}
      },
      "source": [
        "X, Y = [], []\n",
        "for m in range(1, 5):\n",
        "  for tog in [1,5,10, 15, 20]:\n",
        "    for lam in np.arange(0.05,1,0.1):\n",
        "      for mu in np.arange(0.05,1.5,0.1):\n",
        "\n",
        "        n= 5-m\n",
        "        nu = 1 / tog\n",
        "        ro = lam / mu \n",
        "\n",
        "        T0 = 0 \n",
        "        T = 40 \n",
        "        tau = 0.2 \n",
        "        P0 = np.zeros(n + m + 1) \n",
        "        P0[0] = 1 \n",
        "        ags = [n,m,lam,mu,tog]\n",
        "        t, P = RKF(KLMGRV, T0, P0, T, tau, ags)\n",
        "\n",
        "        X_train = np.vstack([t,np.full(len(t), m), np.full(len(t), n), np.full(len(t), tog), np.full(len(t), lam), np.full(len(t), mu)]).T\n",
        "\n",
        "        Y_train = P\n",
        "        X.extend(X_train)\n",
        "        Y.extend(Y_train)"
      ],
      "execution_count": 0,
      "outputs": []
    },
    {
      "cell_type": "code",
      "metadata": {
        "id": "VYWHNpY1fs0q",
        "colab_type": "code",
        "colab": {}
      },
      "source": [
        "X, Y = [], []\n",
        "for m in range(1, 5):\n",
        "  for tog in [1,5,10, 15, 20]:\n",
        "    for lam in np.arange(0.05,1,0.1):\n",
        "      for mu in np.arange(0.05,1.5,0.1):\n",
        "\n",
        "        n= 5-m\n",
        "        nu = 1 / tog\n",
        "        ro = lam / mu \n",
        "\n",
        "        T0 = 0\n",
        "        T = 40\n",
        "        tau = 0.2\n",
        "        P0 = np.zeros(n + m + 1)\n",
        "        P0[0] = 1\n",
        "        ags = [n,m,lam,mu,tog]\n",
        "\n",
        "        t, P = RKF(KLMGRV, T0, P0, T, tau, ags)\n",
        "\n",
        "        X_train = np.array(ags)\n",
        "        Y_train = np.array([item[0] for item in props(ags)])\n",
        "        X.append(X_train)\n",
        "        Y.append(Y_train)"
      ],
      "execution_count": 0,
      "outputs": []
    },
    {
      "cell_type": "code",
      "metadata": {
        "id": "Eq67u_RUvKBF",
        "colab_type": "code",
        "colab": {}
      },
      "source": [
        "scaler = preprocessing.MinMaxScaler()\n",
        "Y = scaler.fit_transform(Y)"
      ],
      "execution_count": 0,
      "outputs": []
    },
    {
      "cell_type": "code",
      "metadata": {
        "id": "X410RAQJvLHh",
        "colab_type": "code",
        "colab": {}
      },
      "source": [
        "reduce_lr = ReduceLROnPlateau(monitor='loss', factor=0.1,\n",
        "                              patience=5, min_lr=0.0001, verbose = 1)\n",
        "e_s = EarlyStopping(monitor = 'loss', patience = 6)\n",
        "act = 'sigmoid'\n",
        "def model(inp_shape):\n",
        "    inp = Input(shape = (inp_shape,))\n",
        "    x1 = Dense(512, activation = 'sigmoid')(inp)\n",
        "    x1 = Dense(512, activation = 'sigmoid')(x1)\n",
        "    out = Dense(len(pokazateli), activation = act)(x1)\n",
        "    model = Model(inputs = inp, outputs = out)\n",
        "    model.compile(optimizer = 'adam', loss = 'mae')\n",
        "    return model\n",
        "mod2 = model(np.array(X).shape[1])"
      ],
      "execution_count": 0,
      "outputs": []
    },
    {
      "cell_type": "code",
      "metadata": {
        "id": "Gd1lvLyzsBFv",
        "colab_type": "code",
        "colab": {}
      },
      "source": [
        "reduce_lr = ReduceLROnPlateau(monitor='loss', factor=0.1,\n",
        "                              patience=2, min_lr=0.000001, verbose = 1)\n",
        "e_s = EarlyStopping(monitor = 'loss', patience = 3)\n",
        "act = 'sigmoid'\n",
        "def model(inp_shape):\n",
        "    inp = Input(shape = (inp_shape,))\n",
        "    x1 = Dense(1024, activation = 'relu')(inp)\n",
        "    x1 = Dense(1024, activation = 'relu')(x1)\n",
        "    x1 = Dense(512, activation = 'sigmoid')(x1)\n",
        "    out = Dense(n+m+1, activation = 'sigmoid')(x1)\n",
        "    model = Model(inputs = inp, outputs = out)\n",
        "    model.compile(optimizer = 'adam', loss = 'mae')\n",
        "    return model\n",
        "mod = model(X.shape[1])"
      ],
      "execution_count": 0,
      "outputs": []
    },
    {
      "cell_type": "code",
      "metadata": {
        "id": "o5XxmipTH6Nd",
        "colab_type": "code",
        "colab": {}
      },
      "source": [
        "X = np.array(X)\n",
        "Y = np.array(Y)"
      ],
      "execution_count": 0,
      "outputs": []
    },
    {
      "cell_type": "code",
      "metadata": {
        "id": "QgfBbW3vc12J",
        "colab_type": "code",
        "colab": {}
      },
      "source": [
        "hist = mod.fit(X, Y, epochs = 20 \n",
        "               , batch_size= 1000,  callbacks=[reduce_lr])"
      ],
      "execution_count": 0,
      "outputs": []
    },
    {
      "cell_type": "code",
      "metadata": {
        "id": "2U12Y3eUGLRG",
        "colab_type": "code",
        "outputId": "3438722b-15a7-42e2-e2cd-b4b0dbf9511b",
        "colab": {
          "base_uri": "https://localhost:8080/",
          "height": 282
        }
      },
      "source": [
        "plt.plot(hist.history['loss'])"
      ],
      "execution_count": 0,
      "outputs": [
        {
          "output_type": "execute_result",
          "data": {
            "text/plain": [
              "[<matplotlib.lines.Line2D at 0x7f1c5e0c59b0>]"
            ]
          },
          "metadata": {
            "tags": []
          },
          "execution_count": 405
        },
        {
          "output_type": "display_data",
          "data": {
            "image/png": "[encoded data removed]",
            "text/plain": [
              "<Figure size 432x288 with 1 Axes>"
            ]
          },
          "metadata": {
            "tags": [],
            "needs_background": "light"
          }
        }
      ]
    },
    {
      "cell_type": "code",
      "metadata": {
        "id": "IySap8STyvor",
        "colab_type": "code",
        "colab": {}
      },
      "source": [
        "hist = mod2.fit(X, Y, epochs = 100 \n",
        "               , batch_size= 100,  callbacks=[reduce_lr, e_s])"
      ],
      "execution_count": 0,
      "outputs": []
    },
    {
      "cell_type": "code",
      "metadata": {
        "id": "oBFITLaSsZAa",
        "colab_type": "code",
        "colab": {}
      },
      "source": [
        "import joblib\n",
        "mod = joblib.load('/content/SMO_weights_final2.sav')\n",
        "mod2 = joblib.load('/content/SMO_weights_final2props.sav')\n"
      ],
      "execution_count": 0,
      "outputs": []
    },
    {
      "cell_type": "code",
      "metadata": {
        "id": "o1_NJ7h5r1H_",
        "colab_type": "code",
        "colab": {
          "base_uri": "https://localhost:8080/",
          "height": 830
        },
        "outputId": "8035bc6f-e4ae-42a5-c16c-d295f65018b9"
      },
      "source": [
        "%%time\n",
        "m = random.randint(1,3)\n",
        "n = 5- m\n",
        "lam = random.uniform(0.001,1)  \n",
        "mu = random.uniform(0.001,1.5)\n",
        "tog = random.randint(1,20)  \n",
        "ags = [n,m,lam,mu,tog]\n",
        "t, P = RKF(KLMGRV, T0, P0, T, tau, ags)\n",
        "pokazateli = np.array(props(ags))\n",
        "# n, m, lam, mu, tog = ags\n",
        "print('n, m, lam, mu, tog: ', n-1, m+1, lam, mu, tog)\n",
        "X_test= np.vstack([t,np.full(len(t), m), np.full(len(t), n), np.full(len(t), tog), np.full(len(t), lam), np.full(len(t), mu)]).T\n",
        "res = mod.predict(X_test)\n",
        "\n",
        "X_test2 = np.array([ags])\n",
        "\n",
        "res_prop = scaler.inverse_transform(mod2.predict(X_test2))\n",
        "\n",
        "print('Показатели СМО:')\n",
        "i=0\n",
        "for item in pokazateli:\n",
        "    print(item[1],' = ', item[0],' / ', res_prop[0][i], 'diff: ', abs(float(item[0]) - res_prop[0][i]))\n",
        "    i+=1\n",
        "\n",
        "plt.figure()\n",
        "plt.title('Решение модели')\n",
        "plt.plot(t,res[:,:n+m+1])\n",
        "plt.figure()\n",
        "plt.title('Решение ур Колмогорова')\n",
        "plt.plot(t,P)\n",
        "print('Погрешности для конечных вероятностей: ',abs(res[-1:,:n+m+1] - P[-1]))"
      ],
      "execution_count": 80,
      "outputs": [
        {
          "output_type": "stream",
          "text": [
            "n, m, lam, mu, tog:  3 2 0.7255418596643255 1.3149127737757036 14\n",
            "Показатели СМО:\n",
            "Вероятность отсутствия очереди p_ots  =  0.9974729308153716  /  0.9952102 diff:  0.002262760069521974\n",
            "Вероятность образования очереди p_och  =  0.0025270691846284725  /  0.0048006484 diff:  0.002273579243871226\n",
            "Вероятность отказа в обслуживании p_otk  =  0.0003027256148969586  /  0.00043908934 diff:  0.0001363637296846305\n",
            "Относительная пропускная способность Q  =  0.999697274385103  /  0.9995278 diff:  0.00016946238101367417\n",
            "Абсолютная пропусная способность A  =  0.7253222195587251  /  0.72597504 diff:  0.000652817062368638\n",
            "Среднее число заявок, находящихся в очереди L_och  =  0.0003027256148969586  /  0.0018787093 diff:  0.0015759836845928971\n",
            "Среднее число заявок, обслуживаемых в СМО L_obs  =  0.5515959771368372  /  0.54040366 diff:  0.011192313024746103\n",
            "Среднее число заявок, находящихся в СМО L_smo  =  0.5518987027517341  /  0.5475745 diff:  0.004324182640650154\n",
            "Среднее время ожидания заявки в очереди T_och  =  14  /  13.962408 diff:  0.03759193420410156\n",
            "Среднее время обслуживания T_obs  =  0.76027649462597  /  0.8477384 diff:  0.08746189057453047\n",
            "Среднее время пребывания заявки в СМО T_smo  =  14.76027649462597  /  14.840865 diff:  0.0805886405669014\n",
            "Погрешности для конечных вероятностей:  [[2.01298400e-04 1.42732893e-05 3.37598056e-04 1.79771013e-04\n",
            "  2.84241715e-05 7.68832761e-06]]\n",
            "CPU times: user 107 ms, sys: 3.02 ms, total: 110 ms\n",
            "Wall time: 96.9 ms\n"
          ],
          "name": "stdout"
        },
        {
          "output_type": "display_data",
          "data": {
            "image/png": "[encoded data removed]",
            "text/plain": [
              "<Figure size 432x288 with 1 Axes>"
            ]
          },
          "metadata": {
            "tags": [],
            "needs_background": "light"
          }
        },
        {
          "output_type": "display_data",
          "data": {
            "image/png": "[encoded data removed]",
            "text/plain": [
              "<Figure size 432x288 with 1 Axes>"
            ]
          },
          "metadata": {
            "tags": [],
            "needs_background": "light"
          }
        }
      ]
    },
    {
      "cell_type": "code",
      "metadata": {
        "id": "EqRj_ifRt3ww",
        "colab_type": "code",
        "colab": {
          "base_uri": "https://localhost:8080/",
          "height": 634
        },
        "outputId": "8a01417a-5010-4f62-a7f7-ac4d91672fb7"
      },
      "source": [
        "%%time\n",
        "import random\n",
        "import math\n",
        "import matplotlib\n",
        "from matplotlib import pylab\n",
        "import numpy as np\n",
        "\n",
        "class Requests(object):\n",
        "    def __init__(self, lmbd, wait_average, doing_time):\n",
        "        self.arrive_time = math.ceil(math.log(random.random())/(-lmbd))\n",
        "        #self.arrive_time = math.ceil(np.random.exponential(1 / lmbd))\n",
        "        #self.arrive_time = math.ceil(random.expovariate(lmbd))\n",
        "        self.leave_time = math.ceil(random.expovariate(1/wait_average))\n",
        "        #self.leave_time = math.ceil(np.random.exponential(wait_average))\n",
        "        #self.leave_time = math.ceil(math.log(random.random()) / (-wait_average))\n",
        "        self.doing_time = math.ceil(random.expovariate(doing_time))\n",
        "        #self.doing_time = math.ceil(np.random.exponential(doing_time))\n",
        "        #self.doing_time = math.ceil(math.log(random.random()) / (-doing_time))\n",
        "        #self.arrive_time = int(1/lmbd)\n",
        "        #self.leave_time = wait_average\n",
        "        #self.doing_time = int(1/doing_time)\n",
        "\n",
        "    time_of_living = 0\n",
        "    time_of_doing = 0\n",
        "\n",
        "    def living(self):\n",
        "        self.time_of_living += 1\n",
        "\n",
        "    def doing(self):\n",
        "        self.time_of_doing += 1\n",
        "\n",
        "    def get_arrive(self):\n",
        "        return self.arrive_time\n",
        "\n",
        "    def get_doing(self):\n",
        "        return self.doing_time\n",
        "\n",
        "    def get_leaving(self):\n",
        "        return self.leave_time\n",
        "\n",
        "    def get_living(self):\n",
        "        return self.time_of_living\n",
        "\n",
        "\n",
        "n, m, end_time = 2, 3, 40\n",
        "lmbd, wait_average, doing_time = 0.5, 15, 0.05\n",
        "trying_requests, completed_requests, denied_requests = 0, 0, 0\n",
        "time_in_system, time_in_queue, time_in_channel = 0, 0, 0\n",
        "requests_in_queue, request_in_channels, requests_in_system = 0, 0, 0\n",
        "queues = 0\n",
        "iterations = 100000\n",
        "probabilities = [[0 for i in range(n + m + 2)] for j in range(end_time)]\n",
        "for i in range(iterations):\n",
        "    queue = []\n",
        "    channels = [None for j in range(n)]\n",
        "    new_request = Requests(lmbd, wait_average, doing_time)\n",
        "    time_to_next_left = int(new_request.get_arrive())\n",
        "    for current_time in range(end_time):\n",
        "        # из очереди в канал\n",
        "        if len(queue) != 0:\n",
        "            if None in channels:\n",
        "                time_in_queue += queue[0].time_of_living\n",
        "                channels[channels.index(None)] = queue[0]\n",
        "                queue.pop(0)\n",
        "        # новый заказ\n",
        "        if time_to_next_left == 0:\n",
        "            new_request = Requests(lmbd, wait_average, doing_time)\n",
        "            trying_requests += 1\n",
        "            # если есть свободный канал, то на него\n",
        "            if None in channels:\n",
        "                channels[channels.index(None)] = new_request\n",
        "            # иначе в очередь\n",
        "            elif len(queue) < m:\n",
        "                queue.append(new_request)\n",
        "            # или вообще отказ\n",
        "            else:\n",
        "                denied_requests += 1\n",
        "                probabilities[current_time][-1] += 1\n",
        "            time_to_next_left = int(new_request.get_arrive())\n",
        "        time_to_next_left -= 1\n",
        "        # обновляем заявки в каналах\n",
        "        doing = 0\n",
        "        for item in channels:\n",
        "            if item is not None:\n",
        "                item.living()\n",
        "                item.doing()\n",
        "                doing += 1\n",
        "                if item.time_of_doing == item.get_doing():\n",
        "                    channels[channels.index(item)] = None\n",
        "                    completed_requests += 1\n",
        "                    time_in_system += item.time_of_living\n",
        "                    time_in_channel += item.time_of_doing\n",
        "        # записываем, была ли очередь и сколько где заявок\n",
        "        if len(queue) > 0:\n",
        "            queues += 1\n",
        "        requests_in_queue += len(queue)\n",
        "        request_in_channels += doing\n",
        "        requests_in_system += len(queue) + doing\n",
        "        probabilities[current_time][len(queue) + doing] += 1\n",
        "        # обновляем заявки в очереди\n",
        "        for item in queue:\n",
        "            item.living()\n",
        "            if item.get_living() == item.get_leaving():\n",
        "                queue.remove(item)\n",
        "                time_in_system += item.time_of_living\n",
        "                time_in_queue += item.time_of_living\n",
        "\n",
        "print('интенсивность', trying_requests/(iterations*end_time))\n",
        "print('вероятность отсутсвия очереди', (end_time*iterations - queues)/(end_time*iterations))\n",
        "print('вероятность образования очереди', queues/(end_time*iterations))\n",
        "print('вероятность отказа', denied_requests/trying_requests)\n",
        "print('относительная пропускная способность', (trying_requests - denied_requests)/trying_requests)\n",
        "print('абсолютная пропускная способность', (trying_requests - denied_requests)/(end_time*iterations))\n",
        "print('среднее число заявок в очереди', requests_in_queue/(end_time*iterations))\n",
        "print('среднее количество заявок на обслуживании', request_in_channels/(end_time*iterations))\n",
        "print('среднее число заявок в системе', requests_in_system/(end_time*iterations))\n",
        "print('среднее время ожидания в очереди', time_in_queue/(trying_requests - denied_requests))\n",
        "print('среднее время обслуживания', time_in_channel/completed_requests)\n",
        "print('среднее время пребывания заявки в СМО', time_in_system/completed_requests)\n",
        "print('вероятность ухода из очереди', (trying_requests - denied_requests - completed_requests)/trying_requests)\n",
        "for i in range(n + 1):\n",
        "    print('предельная вероятность ', i, ' ', probabilities[-1][i]/iterations)\n",
        "for i in range(m + 1):\n",
        "    print('предельная вероятность ', n, '-', i, ' ', probabilities[-1][i + n] / iterations)\n",
        "# print('предельная вероятность отказа', probabilities[-1][-1]/iterations)\n",
        "\n",
        "x = [i for i in range(len(probabilities))]\n",
        "for j in range(len(probabilities[0])-1):\n",
        "    plot = [0 for i in range(len(probabilities))]\n",
        "    for i in range(len(probabilities)):\n",
        "        plot[i] = probabilities[i][j]/iterations\n",
        "    pylab.plot(x, plot)\n",
        "pylab.show()\n",
        "\n"
      ],
      "execution_count": 41,
      "outputs": [
        {
          "output_type": "stream",
          "text": [
            "интенсивность 0.38364425\n",
            "вероятность отсутсвия очереди 0.2731865\n",
            "вероятность образования очереди 0.7268135\n",
            "вероятность отказа 0.2478585303963242\n",
            "относительная пропускная способность 0.7521414696036758\n",
            "абсолютная пропускная способность 0.28855475\n",
            "среднее число заявок в очереди 1.629516\n",
            "среднее количество заявок на обслуживании 1.771637\n",
            "среднее число заявок в системе 3.401153\n",
            "среднее время ожидания в очереди 3.9905919067352036\n",
            "среднее время обслуживания 11.232052228543305\n",
            "среднее время пребывания заявки в СМО 21.14992834498632\n",
            "вероятность ухода из очереди 0.527059899894238\n",
            "предельная вероятность  0   0.00097\n",
            "предельная вероятность  1   0.00906\n",
            "предельная вероятность  2   0.04512\n",
            "предельная вероятность  2 - 0   0.04512\n",
            "предельная вероятность  2 - 1   0.13596\n",
            "предельная вероятность  2 - 2   0.2828\n",
            "предельная вероятность  2 - 3   0.52609\n"
          ],
          "name": "stdout"
        },
        {
          "output_type": "display_data",
          "data": {
            "image/png": "[encoded data removed]",
            "text/plain": [
              "<Figure size 432x288 with 1 Axes>"
            ]
          },
          "metadata": {
            "tags": [],
            "needs_background": "light"
          }
        },
        {
          "output_type": "stream",
          "text": [
            "CPU times: user 19.6 s, sys: 3.91 ms, total: 19.6 s\n",
            "Wall time: 19.6 s\n"
          ],
          "name": "stdout"
        }
      ]
    },
    {
      "cell_type": "code",
      "metadata": {
        "id": "jpBEP1_8zF4-",
        "colab_type": "code",
        "outputId": "bb703147-8830-493a-ef6f-59682b2a9c4b",
        "colab": {
          "base_uri": "https://localhost:8080/",
          "height": 763
        }
      },
      "source": [
        "ags = [3,2,0.5,0.05,15]\n",
        "t, P = RKF(KLMGRV, T0, P0, T, tau, ags)\n",
        "pokazateli = np.array(props(ags))\n",
        "n, m, lam, mu, tog = ags\n",
        "nu = 1 / tog\n",
        "ro = lam / mu \n",
        "X_test= np.vstack([t,np.full(len(t), m), np.full(len(t), n), np.full(len(t), tog), np.full(len(t), lam), np.full(len(t), mu)]).T\n",
        "res = mod.predict(X_test)\n",
        "\n",
        "X_test2 = np.array([ags])\n",
        "\n",
        "res_prop = scaler.inverse_transform(mod2.predict(X_test2))\n",
        "\n",
        "print('Показатели СМО:')\n",
        "i=0\n",
        "for item in pokazateli:\n",
        "    print(item[1],' = ', item[0],' / ', res_prop[0][i], 'diff: ', abs(float(item[0]) - res_prop[0][i]))\n",
        "    i+=1\n",
        "plt.figure()\n",
        "plt.title('Решение модели')\n",
        "plt.plot(t,res[:,:n+m+1])\n",
        "plt.figure()\n",
        "plt.title('Решение ур Колмогорова')\n",
        "plt.plot(t,P)\n",
        "print(abs(res[-1:,:n+m+1] - P[-1]))"
      ],
      "execution_count": 58,
      "outputs": [
        {
          "output_type": "stream",
          "text": [
            "Показатели СМО:\n",
            "Вероятность отсутствия очереди p_ots  =  0.04724964162333238  /  0.06695283 diff:  0.019703190419838548\n",
            "Вероятность образования очереди p_och  =  0.9527503583766675  /  0.92956483 diff:  0.023185524735615304\n",
            "Вероятность отказа в обслуживании p_otk  =  0.5257359426971189  /  0.5314867 diff:  0.005750747347284202\n",
            "Относительная пропускная способность Q  =  0.4742640573028811  /  0.4756795 diff:  0.0014154296870938499\n",
            "Абсолютная пропусная способность A  =  0.23713202865144056  /  0.23437007 diff:  0.0027619609357957264\n",
            "Среднее число заявок, находящихся в очереди L_och  =  1.3493889195892717  /  1.2652242 diff:  0.08416470122074138\n",
            "Среднее число заявок, обслуживаемых в СМО L_obs  =  2.9434553469097824  /  3.023728 diff:  0.08027254691956331\n",
            "Среднее число заявок, находящихся в СМО L_smo  =  4.2928442664990545  /  4.231621 diff:  0.061223477924835734\n",
            "Среднее время ожидания заявки в очереди T_och  =  15  /  14.964777 diff:  0.03522300720214844\n",
            "Среднее время обслуживания T_obs  =  9.485281146057622  /  10.002287 diff:  0.5170057649531206\n",
            "Среднее время пребывания заявки в СМО T_smo  =  24.485281146057623  /  24.551859 diff:  0.06657775591991566\n",
            "[[0.00013348 0.00013001 0.00041676 0.00018701 0.00016251 0.00029342]]\n"
          ],
          "name": "stdout"
        },
        {
          "output_type": "display_data",
          "data": {
            "image/png": "[encoded data removed]",
            "text/plain": [
              "<Figure size 432x288 with 1 Axes>"
            ]
          },
          "metadata": {
            "tags": [],
            "needs_background": "light"
          }
        },
        {
          "output_type": "display_data",
          "data": {
            "image/png": "[encoded data removed]",
            "text/plain": [
              "<Figure size 432x288 with 1 Axes>"
            ]
          },
          "metadata": {
            "tags": [],
            "needs_background": "light"
          }
        }
      ]
    }
  ]
}